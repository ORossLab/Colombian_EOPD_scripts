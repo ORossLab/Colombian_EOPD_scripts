{
 "cells": [
  {
   "cell_type": "markdown",
   "metadata": {},
   "source": [
    "* LRA alignment\n",
    "* Author: Gavrielatos Marios\n",
    "* Mayo Clinic, Fl\n",
    "* Dr. Owen Ross Lab\n",
    "* Last revised 09/13/2024"
   ]
  },
  {
   "cell_type": "code",
   "execution_count": null,
   "metadata": {},
   "outputs": [],
   "source": [
    "# Import librariers\n",
    "import joblib\n",
    "import pandas as pd\n",
    "\n",
    "from extract_svs import *\n",
    "\n"
   ]
  },
  {
   "cell_type": "code",
   "execution_count": null,
   "metadata": {},
   "outputs": [],
   "source": [
    "# Input data and create tables\n",
    "merged_tmp_cutesv = joblib.load(r\"path\\to\\grch38.cutesv.merge.jl\")\n",
    "merged_cutesv = cutesv_extraction(merged_tmp_cutesv)\n",
    "merged_tmp_sniffles2 = joblib.load(r\"path\\to\\grch38.sniffles2.merge.jl\")\n",
    "merged_sniffles2 = sniffles2_extraction(merged_tmp_sniffles2)\n",
    "merged_tmp_pbsv = joblib.load(r\"path\\to\\grch38.pbsv.merge.jl\")\n",
    "merged_pbsv = pbsv_extraction(merged_tmp_pbsv)\n",
    "merged_tmp_svdss = joblib.load(r\"path\\to\\grch38.svdss.merge.jl\")\n",
    "merged_svdss = svdss_extraction(merged_tmp_svdss)\n",
    "\n",
    "# Merge tables\n",
    "list_to_merge_full=[merged_cutesv, merged_sniffles2, merged_pbsv, merged_svdss]\n",
    "merged_alignment=pd.concat(list_to_merge_full)"
   ]
  },
  {
   "cell_type": "code",
   "execution_count": null,
   "metadata": {},
   "outputs": [],
   "source": [
    "phenoSV_alignment = pd.read_csv(r\"path\\to\\phenoSV_alignment.bed.out.csv\", index_col=0).rename(columns={\"ID\": \"id\"})\n",
    "pheno_dict_tmp_alignment={\n",
    "    'chrom':merged_alignment['chrom'],\n",
    "    'start':merged_alignment['start'],\n",
    "    'end':merged_alignment['end'],\n",
    "    'length':merged_alignment['svlen'],\n",
    "    'id':merged_alignment.index,\n",
    "    'svtype':merged_alignment['svtype'],\n",
    "    'filter':merged_alignment['filter'],\n",
    "    'sample_count':merged_alignment['sample_count'],\n",
    "    'sample_names':merged_alignment['sample_names'],\n",
    "    'genotype':merged_alignment['genotype']\n",
    "}\n",
    "pheno_sv_tmp = pd.DataFrame(pheno_dict_tmp_alignment)\n",
    "pheno_sv_tmp = pheno_sv_tmp.reset_index(drop=True)\n",
    "\n",
    "\n",
    "desired_order = [\n",
    "        'chrom', 'start', 'end', 'length',\n",
    "        'svtype', 'Elements', 'Type', 'filter', 'sample_count', 'sample_names', 'genotype',\n",
    "        'Pathogenicity', 'Phen2Gene', 'PhenoSV', 'id'\n",
    "    ]\n",
    "\n",
    "merged_tmp1 = pd.merge(phenoSV_alignment, pheno_sv_tmp, on='id')\n",
    "\n",
    "final_pheno_sv_df_alignment = merged_tmp1[desired_order]\n",
    "final_pheno_sv_df_alignment['genotype'] = final_pheno_sv_df_alignment['genotype'].astype(str)\n",
    "final_pheno_sv_df_alignment['sample_names'] = final_pheno_sv_df_alignment['sample_names'].astype(str)\n",
    "\n",
    "final_pheno_sv_df_alignment['genotype_count'] = final_pheno_sv_df_alignment['genotype'].str.count(\"h\")\n",
    "final_pheno_sv_df_alignment = final_pheno_sv_df_alignment.sort_values('genotype_count', ascending=False).drop_duplicates(['svtype', 'Elements', 'Type', 'filter', 'sample_count', 'sample_names', 'Pathogenicity']).sort_index()\n",
    "\n",
    "\n",
    "\n",
    "final_pheno_sv_df_alignment.to_csv(r'alignments\\Alignment_full.csv', index=False)\n",
    "\n",
    "\n",
    "exons = final_pheno_sv_df_alignment[final_pheno_sv_df_alignment['Type']=='Exonic']\n",
    "exons.to_excel(r'alignments\\Alignment_Exons.xlsx', index=False)\n"
   ]
  }
 ],
 "metadata": {
  "language_info": {
   "name": "python"
  }
 },
 "nbformat": 4,
 "nbformat_minor": 2
}
