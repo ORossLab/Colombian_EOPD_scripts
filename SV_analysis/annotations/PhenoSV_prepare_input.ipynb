{
 "cells": [
  {
   "cell_type": "markdown",
   "metadata": {},
   "source": [
    "* LRA alignment\n",
    "* Author: Gavrielatos Marios\n",
    "* Mayo Clinic, Fl\n",
    "* Dr. Owen Ross Lab\n",
    "* Last revised 09/13/2024"
   ]
  },
  {
   "cell_type": "code",
   "execution_count": null,
   "metadata": {},
   "outputs": [],
   "source": [
    "# Import librariers\n",
    "import joblib\n",
    "import pandas as pd\n",
    "\n",
    "from extract_svs import *"
   ]
  },
  {
   "cell_type": "code",
   "execution_count": null,
   "metadata": {},
   "outputs": [],
   "source": [
    "# Input data and create tables\n",
    "merged_tmp_cutesv = joblib.load(r\"path\\to\\grch38.cutesv.merge.jl\")\n",
    "merged_cutesv = cutesv_extraction(merged_tmp_cutesv)\n",
    "merged_tmp_sniffles2 = joblib.load(r\"path\\to\\grch38.sniffles2.merge.jl\")\n",
    "merged_sniffles2 = sniffles2_extraction(merged_tmp_sniffles2)\n",
    "merged_tmp_pbsv = joblib.load(r\"path\\to\\grch38.pbsv.merge.jl\")\n",
    "merged_pbsv = pbsv_extraction(merged_tmp_pbsv)\n",
    "merged_tmp_svdss = joblib.load(r\"path\\to\\grch38.svdss.merge.jl\")\n",
    "merged_svdss = svdss_extraction(merged_tmp_svdss)\n",
    "\n",
    "# Merge tables\n",
    "list_to_merge_full=[merged_cutesv, merged_sniffles2, merged_pbsv, merged_svdss]\n",
    "merged_alignment=pd.concat(list_to_merge_full)"
   ]
  },
  {
   "cell_type": "code",
   "execution_count": null,
   "metadata": {},
   "outputs": [],
   "source": [
    "# Create PhenoSV input\n",
    "pheno_dict_tmp={\n",
    "    'chrom':merged_alignment['chrom'],\n",
    "    'start':merged_alignment['start'],\n",
    "    'end':merged_alignment['end'],\n",
    "    'id':merged_alignment.index,\n",
    "    'svtype':merged_alignment['svtype'],\n",
    "}\n",
    "# print(pheno_dict_tmp)\n",
    "pheno_sv_tmp = pd.DataFrame(pheno_dict_tmp)\n",
    "\n",
    "\n",
    "pheno_sv_tmp = pheno_sv_tmp.reset_index(drop=True)\n",
    "\n",
    "pheno_sv_tmp = pheno_sv_tmp.replace('DEL', 'deletion')\n",
    "pheno_sv_tmp = pheno_sv_tmp.replace('INS', 'insertion')\n",
    "pheno_sv_tmp = pheno_sv_tmp.replace('DUP', 'duplication')\n",
    "pheno_sv_tmp = pheno_sv_tmp.replace('INV', 'inversion')\n",
    "\n",
    "pheno_sv_tmp.to_csv(f'phenoSV_alignment.bed', sep='\\t', index=False, header=False)"
   ]
  }
 ],
 "metadata": {
  "language_info": {
   "name": "python"
  }
 },
 "nbformat": 4,
 "nbformat_minor": 2
}
